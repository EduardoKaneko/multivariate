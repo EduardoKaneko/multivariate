{
 "cells": [
  {
   "cell_type": "markdown",
   "metadata": {},
   "source": [
    "## Análise Multivariada\n",
    "\n",
    "#### Grupo A1: Análise de Agrupamentos\n",
    "- Eduardo Kaneko\n",
    "- Victor Toleto\n",
    "- Yan Cunha\n",
    "\n",
    "Liguagens: Python ou R\n",
    "\n",
    "### [1ª Entrega](#1st) \n",
    "Data: 22/04/2019 \n",
    "\n",
    "- Qual a relação esperada entre as variáveis? <br>\n",
    "- Você acrescentaria quais variáveis na análise? <br>\n",
    "- Explique como os resultados podem ser utilizados na prática <br> \n",
    "\n",
    "### [2ª Entrega](#2nd) \n",
    "Data: 28/05/2019 (<font color=\"#ff0000\"> Estamos aqui! </font>)</p>  \n",
    "- Quais são os resultados esperados? <br>\n",
    "- Como funciona o processo de agrupamentos? <br>"
   ]
  },
  {
   "cell_type": "code",
   "execution_count": 1,
   "metadata": {},
   "outputs": [],
   "source": [
    "# Importando as bibliotecas e abrindo o arquivo\n",
    "import pandas as pd\n",
    "import numpy as np\n",
    "import seaborn as sns\n",
    "import matplotlib.pyplot as plt"
   ]
  },
  {
   "cell_type": "code",
   "execution_count": 2,
   "metadata": {},
   "outputs": [],
   "source": [
    "df = pd.read_csv('a1_contabil.csv', sep=';')"
   ]
  },
  {
   "cell_type": "markdown",
   "metadata": {},
   "source": [
    "#### Renomeando as colunas e padronizando o dados"
   ]
  },
  {
   "cell_type": "code",
   "execution_count": 3,
   "metadata": {},
   "outputs": [],
   "source": [
    "df['rentabilidade'] = df['Rentabilidade (%do PL)'].apply(lambda x: float(x.replace(\",\", \".\")))\n",
    "df['liquidez'] = df['Liquidezgeral'].apply(lambda x: float(x.replace(\",\", \".\")))\n",
    "df['endividamento'] = df['Endividamentogeral'].apply(lambda x: float(x.replace(\",\", \".\")))\n",
    "df['empresa'] = df['Empresa']\n",
    "df = df[['empresa', 'rentabilidade', 'liquidez', 'endividamento']]"
   ]
  },
  {
   "cell_type": "code",
   "execution_count": 4,
   "metadata": {},
   "outputs": [
    {
     "name": "stdout",
     "output_type": "stream",
     "text": [
      "<class 'pandas.core.frame.DataFrame'>\n",
      "RangeIndex: 50 entries, 0 to 49\n",
      "Data columns (total 4 columns):\n",
      "empresa          50 non-null object\n",
      "rentabilidade    50 non-null float64\n",
      "liquidez         50 non-null float64\n",
      "endividamento    50 non-null float64\n",
      "dtypes: float64(3), object(1)\n",
      "memory usage: 1.6+ KB\n"
     ]
    }
   ],
   "source": [
    "df.info()"
   ]
  },
  {
   "cell_type": "code",
   "execution_count": 5,
   "metadata": {},
   "outputs": [
    {
     "data": {
      "text/html": [
       "<div>\n",
       "<style scoped>\n",
       "    .dataframe tbody tr th:only-of-type {\n",
       "        vertical-align: middle;\n",
       "    }\n",
       "\n",
       "    .dataframe tbody tr th {\n",
       "        vertical-align: top;\n",
       "    }\n",
       "\n",
       "    .dataframe thead th {\n",
       "        text-align: right;\n",
       "    }\n",
       "</style>\n",
       "<table border=\"1\" class=\"dataframe\">\n",
       "  <thead>\n",
       "    <tr style=\"text-align: right;\">\n",
       "      <th></th>\n",
       "      <th>empresa</th>\n",
       "      <th>rentabilidade</th>\n",
       "      <th>liquidez</th>\n",
       "      <th>endividamento</th>\n",
       "    </tr>\n",
       "  </thead>\n",
       "  <tbody>\n",
       "    <tr>\n",
       "      <th>0</th>\n",
       "      <td>PETROBRAS</td>\n",
       "      <td>21.9</td>\n",
       "      <td>1.0756</td>\n",
       "      <td>52.5</td>\n",
       "    </tr>\n",
       "    <tr>\n",
       "      <th>1</th>\n",
       "      <td>PETROBRAS DISTRIBUIDORA</td>\n",
       "      <td>10.5</td>\n",
       "      <td>1.2175</td>\n",
       "      <td>54.2</td>\n",
       "    </tr>\n",
       "    <tr>\n",
       "      <th>2</th>\n",
       "      <td>TELEMAR</td>\n",
       "      <td>7.8</td>\n",
       "      <td>0.4218</td>\n",
       "      <td>56.0</td>\n",
       "    </tr>\n",
       "    <tr>\n",
       "      <th>3</th>\n",
       "      <td>TELEFONICA</td>\n",
       "      <td>14.1</td>\n",
       "      <td>0.6093</td>\n",
       "      <td>38.1</td>\n",
       "    </tr>\n",
       "    <tr>\n",
       "      <th>4</th>\n",
       "      <td>CBB/AMBEV</td>\n",
       "      <td>10.6</td>\n",
       "      <td>0.6162</td>\n",
       "      <td>66.1</td>\n",
       "    </tr>\n",
       "  </tbody>\n",
       "</table>\n",
       "</div>"
      ],
      "text/plain": [
       "                   empresa  rentabilidade  liquidez  endividamento\n",
       "0                PETROBRAS           21.9    1.0756           52.5\n",
       "1  PETROBRAS DISTRIBUIDORA           10.5    1.2175           54.2\n",
       "2                  TELEMAR            7.8    0.4218           56.0\n",
       "3               TELEFONICA           14.1    0.6093           38.1\n",
       "4                CBB/AMBEV           10.6    0.6162           66.1"
      ]
     },
     "execution_count": 5,
     "metadata": {},
     "output_type": "execute_result"
    }
   ],
   "source": [
    "df.head()"
   ]
  },
  {
   "cell_type": "markdown",
   "metadata": {},
   "source": [
    "## <a id=\"1st\" class=\"anchor\"><font color =\"#008000\">1ª Entrega</font></a>\n",
    "______"
   ]
  },
  {
   "cell_type": "markdown",
   "metadata": {},
   "source": [
    "#### 1. Qual a relação esperada entre as variáveis?"
   ]
  },
  {
   "cell_type": "markdown",
   "metadata": {},
   "source": [
    "Em primeiro lugar, vale ressltar a importância de investigar as relações entre variáveis quantitativas:\n",
    "- Verificar se os valores sestão associados. (Os valores de uma medida tendem a crescer (ou decrescer) à medida que a outra cresce?)\n",
    "- Predizer o valor de uma variável a partir de um valor conhecido da outra.\n",
    "- Descrever a relação entre variáveis. (Dado um aumento específico numa variável, qual o crescimento médio esperado para a segunda variável?)\n",
    "\n",
    "O primeiro estágio em qualquer um dos casos é produzir um gráfico de pontos dos dados para obter alguma idéia da forma e grau de associação entre duas variáveis, como o gráfico abaixo.\n",
    "\n",
    "A análise fundamentalista é a principal ferramenta para entender e estudar os fundamentos econômico-financeiros de uma empresa e, portanto, quando se trata de estudar a relação entre indicadores econônomicos, faz-se necessário utiliza-lá. Dado que, em uma análise com um conjunto de dados parecido com o que estamos tratando aqui, o objetivo seria analisar e levantar as empresas mais saudáveis desta amostra. <br>\n",
    "\n",
    "Portanto, é de se esperar que haja uma relação forte e positiva entre a variável `vendas` e `rentabilidade`, e uma relação negativa e com força moderada a forte entre as variáveis `liquidez` e `endividamento`."
   ]
  },
  {
   "cell_type": "code",
   "execution_count": 7,
   "metadata": {},
   "outputs": [
    {
     "data": {
      "image/png": "[encoded data removed]",
      "text/plain": [
       "<Figure size 540x540 with 12 Axes>"
      ]
     },
     "metadata": {
      "needs_background": "light"
     },
     "output_type": "display_data"
    }
   ],
   "source": [
    "sns.pairplot(df);"
   ]
  },
  {
   "cell_type": "markdown",
   "metadata": {},
   "source": [
    "#### 2. Você acrescentaria quais variáveis na análise?"
   ]
  },
  {
   "cell_type": "markdown",
   "metadata": {},
   "source": [
    "Dado o modo como as 3 variáveis são calculadas, é possível acrescentar as variáveis **lucro** e **patrimônio**, para entender o quão saudável a empresa é. <br> <br>\n",
    "Os `índices de liquidez`, por exemplo,  avaliam a capacidade de pagamento da empresa frente a suas obrigações. Sendo de grande importância para a administração da continuidade da empresa, as variações destes índices devem ser motivos de estudos para os gestores. <br><br>\n",
    "Já a `rentabilidade do Patrimônio Líquido` mostra percentual de Lucro Líquido ou Prejuízo Líquido auferido relacionado ao montante total aplicado pelos acionistas. Quanto maior a porcentagem positiva, melhor. <br><br>\n",
    "O `Índice de Endividamento Geral`, também conhecido como Índice de Endividamento Total, é um índice financeiro usado para entender até que ponto os ativos de uma empresa estão financiados com capital de terceiros. Ou seja, quais geraram dívidas que devem ser quitadas no futuro."
   ]
  },
  {
   "cell_type": "markdown",
   "metadata": {},
   "source": [
    "#### 3. Explique como os resultados podem ser utilizados na prática?"
   ]
  },
  {
   "cell_type": "markdown",
   "metadata": {},
   "source": [
    "Pode-se utilizar os resultados para, por exemplo, definir um preço justo para as ações das empresas analisadas. Isso representa uma grande vantagem, uma vez que os preços das ações muitas vezes são negociados por valores muito diferentes dos fundamentos das empresas, podendo estar:\n",
    "\n",
    "- Sobrevalorizando: indica que você deve vender as ações\n",
    "- Subvalorizando: indicando que você deve comprar as ações\n",
    "\n",
    "\n",
    "Além disso, é de se esperar utilizar os resultados como ferramenta de comparação entre empresas concorrentes ou de um mesmo setor, ajudando a definir qual vale mais a pena investir. Sejam elas grandes empresas, ou até mesmo empresas **small caps**, esta abordagem permite realizar uma comparação lado a lado."
   ]
  },
  {
   "cell_type": "markdown",
   "metadata": {},
   "source": [
    "## <a id=\"2nd\" class=\"anchor\"><font color =\"#ff0000\">2ª Entrega</font></a>\n",
    "______\n"
   ]
  },
  {
   "cell_type": "markdown",
   "metadata": {},
   "source": [
    "#### 1. Quais são os resultados esperados? \n",
    "Quando nos referimos a não supervisionado, como é o caso de análise de agrupamento, estamos nos referindo ao fato de que não temos Labels em nosso conjunto de dados, isso quer dizer que, por examplo, um algoritmo não ira aprender com base em exemplos passados, mas sim extrair um padrão do conjunto de dados que temos. A ideia e, portanto, os resultados esperados, é agrupar os dados em grupos semelhantes entre si de modo a poder tirar alguma informação relevante disso.\n",
    "\n",
    "Geralmente usamos isso como uma etapa para etiquetar os dados para um algoritmo de aprendizado supervisionado e claro achar ruídos em nosso Dataset. O **K-means**, que vimos na última aula de **multivariada**, é um algoritmo muito interessante para essa tarefa pois além de ser fácil é extremamente eficiente e ainda por cima relativamente rápido para tarefa que se propõe."
   ]
  },
  {
   "cell_type": "markdown",
   "metadata": {},
   "source": [
    "#### Como funciona o processo de agrupamentos?\n",
    "A estratégia consiste em criar K centroides em localizações aleatórias, calcular as distancia desses centroides em relação as instâncias mais próximas e classificá-las como pertencente ao cluster que tem como centro o centroide mais próximo, feito isso movemos os centro para a localização média do espaço e refazemos o processo. Isto geralmente é feito ate um limite pré estabelecido.\n",
    "\n",
    "O dataset que o grupo escolheu tem quatro variáveis: `empresa`, `rentabilidade`, `liquidez` e `endividamento`. Fizemos um dendograma na linguagem python, utilizando a variável liquidez para exemplificar como uma análise de agrupamentos funciona na prática."
   ]
  },
  {
   "cell_type": "markdown",
   "metadata": {},
   "source": [
    "#### Dendograma com a variável `liquidez`"
   ]
  },
  {
   "cell_type": "code",
   "execution_count": 8,
   "metadata": {},
   "outputs": [],
   "source": [
    "from scipy.cluster import hierarchy\n",
    "df_arr = np.asarray(df[['liquidez']])"
   ]
  },
  {
   "cell_type": "code",
   "execution_count": 9,
   "metadata": {},
   "outputs": [
    {
     "data": {
      "image/png": "[encoded data removed]",
      "text/plain": [
       "<Figure size 1080x864 with 1 Axes>"
      ]
     },
     "metadata": {
      "needs_background": "light"
     },
     "output_type": "display_data"
    }
   ],
   "source": [
    "ytdist = np.array(df[['liquidez']])\n",
    "Z = hierarchy.linkage(ytdist, 'single')\n",
    "plt.figure(figsize=(15, 12))\n",
    "plt.title(\"Dendograma: Liquidez Geral\")\n",
    "dn = hierarchy.dendrogram(Z)"
   ]
  },
  {
   "cell_type": "code",
   "execution_count": 10,
   "metadata": {},
   "outputs": [],
   "source": [
    "### Entrega 3\n"
   ]
  },
  {
   "cell_type": "code",
   "execution_count": 14,
   "metadata": {},
   "outputs": [],
   "source": [
    "#Call required libraries\n",
    "import time                   # To time processes\n",
    "import warnings               # To suppress warnings\n",
    "\n",
    "import numpy as np            # Data manipulation\n",
    "import pandas as pd           # Dataframe manipulatio \n",
    "import matplotlib.pyplot as plt                   # For graphics\n",
    "import seaborn as sns\n",
    "\n",
    "\n",
    "from sklearn.preprocessing import StandardScaler  # For scaling dataset\n",
    "from sklearn.cluster import KMeans, AgglomerativeClustering, AffinityPropagation #For clustering\n",
    "from sklearn.mixture import GaussianMixture #For GMM clustering\n",
    "\n",
    "import os                     # For os related operations\n",
    "import sys    "
   ]
  },
  {
   "cell_type": "code",
   "execution_count": 15,
   "metadata": {},
   "outputs": [
    {
     "data": {
      "text/html": [
       "<div>\n",
       "<style scoped>\n",
       "    .dataframe tbody tr th:only-of-type {\n",
       "        vertical-align: middle;\n",
       "    }\n",
       "\n",
       "    .dataframe tbody tr th {\n",
       "        vertical-align: top;\n",
       "    }\n",
       "\n",
       "    .dataframe thead th {\n",
       "        text-align: right;\n",
       "    }\n",
       "</style>\n",
       "<table border=\"1\" class=\"dataframe\">\n",
       "  <thead>\n",
       "    <tr style=\"text-align: right;\">\n",
       "      <th></th>\n",
       "      <th>rentabilidade</th>\n",
       "      <th>liquidez</th>\n",
       "      <th>endividamento</th>\n",
       "    </tr>\n",
       "  </thead>\n",
       "  <tbody>\n",
       "    <tr>\n",
       "      <th>count</th>\n",
       "      <td>50.000000</td>\n",
       "      <td>50.000000</td>\n",
       "      <td>50.000000</td>\n",
       "    </tr>\n",
       "    <tr>\n",
       "      <th>mean</th>\n",
       "      <td>14.920000</td>\n",
       "      <td>0.824948</td>\n",
       "      <td>56.468000</td>\n",
       "    </tr>\n",
       "    <tr>\n",
       "      <th>std</th>\n",
       "      <td>14.476089</td>\n",
       "      <td>0.379594</td>\n",
       "      <td>14.144032</td>\n",
       "    </tr>\n",
       "    <tr>\n",
       "      <th>min</th>\n",
       "      <td>-39.100000</td>\n",
       "      <td>0.191500</td>\n",
       "      <td>25.800000</td>\n",
       "    </tr>\n",
       "    <tr>\n",
       "      <th>25%</th>\n",
       "      <td>9.525000</td>\n",
       "      <td>0.604800</td>\n",
       "      <td>49.925000</td>\n",
       "    </tr>\n",
       "    <tr>\n",
       "      <th>50%</th>\n",
       "      <td>15.500000</td>\n",
       "      <td>0.801850</td>\n",
       "      <td>55.400000</td>\n",
       "    </tr>\n",
       "    <tr>\n",
       "      <th>75%</th>\n",
       "      <td>20.650000</td>\n",
       "      <td>0.978925</td>\n",
       "      <td>65.575000</td>\n",
       "    </tr>\n",
       "    <tr>\n",
       "      <th>max</th>\n",
       "      <td>52.500000</td>\n",
       "      <td>2.002100</td>\n",
       "      <td>92.800000</td>\n",
       "    </tr>\n",
       "  </tbody>\n",
       "</table>\n",
       "</div>"
      ],
      "text/plain": [
       "       rentabilidade   liquidez  endividamento\n",
       "count      50.000000  50.000000      50.000000\n",
       "mean       14.920000   0.824948      56.468000\n",
       "std        14.476089   0.379594      14.144032\n",
       "min       -39.100000   0.191500      25.800000\n",
       "25%         9.525000   0.604800      49.925000\n",
       "50%        15.500000   0.801850      55.400000\n",
       "75%        20.650000   0.978925      65.575000\n",
       "max        52.500000   2.002100      92.800000"
      ]
     },
     "execution_count": 15,
     "metadata": {},
     "output_type": "execute_result"
    }
   ],
   "source": [
    "df.describe()"
   ]
  },
  {
   "cell_type": "code",
   "execution_count": 17,
   "metadata": {},
   "outputs": [
    {
     "data": {
      "image/png": "[encoded data removed]",
      "text/plain": [
       "<Figure size 432x288 with 2 Axes>"
      ]
     },
     "metadata": {
      "needs_background": "light"
     },
     "output_type": "display_data"
    }
   ],
   "source": [
    "df1 =  df[['rentabilidade', 'liquidez', 'endividamento']] #Subsetting the data\n",
    "cor = df1.corr() #Calculate the correlation of the above variables\n",
    "sns.heatmap(cor, square = True);"
   ]
  },
  {
   "cell_type": "code",
   "execution_count": 18,
   "metadata": {},
   "outputs": [
    {
     "data": {
      "text/plain": [
       "array([[ 0.48706974,  0.66701949, -0.28339056],\n",
       "       [-0.30843098,  1.04463492, -0.16197828],\n",
       "       [-0.49683905, -1.07283234, -0.03342409],\n",
       "       [-0.05722023, -0.57386902, -1.31182407],\n",
       "       [-0.30145291, -0.55550717,  0.68790774],\n",
       "       [ 0.11723169,  1.06645625, -0.36909336],\n",
       "       [ 0.18003437, -1.25991032, -1.74033803],\n",
       "       [ 0.27772745,  0.19200641,  1.0878541 ],\n",
       "       [ 0.42426705, -0.11109718,  2.1519971 ],\n",
       "       [-0.65035673, -0.56029722,  0.0808463 ],\n",
       "       [-0.6015102 , -0.23803344, -0.20482967],\n",
       "       [-3.76955694,  0.40037349,  0.84502953],\n",
       "       [ 0.75223665, -1.10024206,  1.02357701],\n",
       "       [-0.10606676, -0.6566304 ,  1.69491555],\n",
       "       [ 0.18003437,  1.01270127,  0.70219154],\n",
       "       [ 0.13816592, -0.15926377, -0.11912688],\n",
       "       [ 1.47097853,  0.09993104, -0.74761402],\n",
       "       [ 0.74525857,  0.35752917, -0.43337045],\n",
       "       [ 0.2009686 , -0.35379293, -0.77618162],\n",
       "       [ 0.00558246,  0.46876473, -0.14769448],\n",
       "       [ 0.00558246,  0.4102197 ,  0.53792786],\n",
       "       [ 0.03349477, -1.12366007,  0.77361053],\n",
       "       [ 2.30136964, -0.9522828 ,  0.83074573],\n",
       "       [ 0.53591628,  0.27982395,  0.53792786],\n",
       "       [ 0.40333282, -0.28992563,  1.45923287],\n",
       "       [ 1.4500443 , -1.15186813,  2.59479486],\n",
       "       [-0.39914598,  0.11696232, -0.44051235],\n",
       "       [ 0.04745092, -0.93019536, -2.19027768],\n",
       "       [ 0.75921473,  1.61598119, -0.19054587],\n",
       "       [-0.25958445, -0.25905643,  1.04500271],\n",
       "       [ 0.38937667, -0.08980807,  0.27367758],\n",
       "       [-0.6294225 , -0.53075859, -1.81175702],\n",
       "       [ 0.01256054,  0.66994674,  0.45936696],\n",
       "       [-0.87365518, -1.68569235, -1.11899279],\n",
       "       [ 0.29866168,  2.25252532, -0.47622185],\n",
       "       [-0.28749675, -1.52203238, -1.14756038],\n",
       "       [ 0.89877626, -0.58983585, -0.14055258],\n",
       "       [ 1.40119777,  0.01078293,  0.15940719],\n",
       "       [ 2.62236116, -0.57174011,  1.0878541 ],\n",
       "       [ 0.04745092,  0.03659597,  0.51650216],\n",
       "       [-1.58541899,  0.80114082, -0.85474251],\n",
       "       [ 0.37542052,  0.4083569 ,  0.36652227],\n",
       "       [-0.90854556, -0.83040269,  0.34509658],\n",
       "       [-0.6015102 ,  3.13256356, -0.69047883],\n",
       "       [ 0.07536323,  0.28700902, -0.43337045],\n",
       "       [-1.4319013 , -1.61676888, -0.39766095],\n",
       "       [-1.13882209,  0.70427541,  0.17369099],\n",
       "       [-0.26656252,  2.57186185, -1.9903045 ],\n",
       "       [-1.89245435,  0.2111666 , -1.28325647],\n",
       "       [-0.07117638, -0.03312584,  0.0594206 ]])"
      ]
     },
     "execution_count": 18,
     "metadata": {},
     "output_type": "execute_result"
    }
   ],
   "source": [
    "ss = StandardScaler()\n",
    "ss.fit_transform(df1)"
   ]
  },
  {
   "cell_type": "code",
   "execution_count": 21,
   "metadata": {},
   "outputs": [],
   "source": [
    "#K means Clustering \n",
    "def doKmeans(X, nclust=4):\n",
    "    model = KMeans(nclust)\n",
    "    model.fit(X)\n",
    "    clust_labels = model.predict(X)\n",
    "    cent = model.cluster_centers_\n",
    "    return (clust_labels, cent)\n",
    "\n",
    "clust_labels, cent = doKmeans(df1, 2)\n",
    "kmeans = pd.DataFrame(clust_labels)\n",
    "df1.insert((df1.shape[1]),'kmeans',kmeans)"
   ]
  },
  {
   "cell_type": "code",
   "execution_count": 30,
   "metadata": {},
   "outputs": [
    {
     "data": {
      "text/plain": [
       "<matplotlib.colorbar.Colorbar at 0x1a20829c50>"
      ]
     },
     "execution_count": 30,
     "metadata": {},
     "output_type": "execute_result"
    },
    {
     "data": {
      "image/png": "[encoded data removed]",
      "text/plain": [
       "<Figure size 1080x720 with 2 Axes>"
      ]
     },
     "metadata": {
      "needs_background": "light"
     },
     "output_type": "display_data"
    }
   ],
   "source": [
    "fig = plt.figure(figsize=(15,10))\n",
    "ax = fig.add_subplot(111)\n",
    "scatter = ax.scatter(df1['rentabilidade'],df1['endividamento'],\n",
    "                     c=kmeans[0],s=50)\n",
    "ax.set_title('K-Means Clustering')\n",
    "ax.set_xlabel('Rentabilidade')\n",
    "ax.set_ylabel('endividamento')\n",
    "plt.colorbar(scatter)"
   ]
  },
  {
   "cell_type": "code",
   "execution_count": null,
   "metadata": {},
   "outputs": [],
   "source": []
  }
 ],
 "metadata": {
  "kernelspec": {
   "display_name": "Python 3",
   "language": "python",
   "name": "python3"
  },
  "language_info": {
   "codemirror_mode": {
    "name": "ipython",
    "version": 3
   },
   "file_extension": ".py",
   "mimetype": "text/x-python",
   "name": "python",
   "nbconvert_exporter": "python",
   "pygments_lexer": "ipython3",
   "version": "3.7.1"
  }
 },
 "nbformat": 4,
 "nbformat_minor": 2
}
