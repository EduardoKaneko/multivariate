{
 "cells": [
  {
   "cell_type": "code",
   "execution_count": 1,
   "metadata": {},
   "outputs": [],
   "source": [
    "import pandas as pd\n",
    "import matplotlib.pyplot as plt\n",
    "import numpy as np\n",
    "import seaborn as sns"
   ]
  },
  {
   "cell_type": "code",
   "execution_count": 16,
   "metadata": {},
   "outputs": [],
   "source": [
    "df = pd.read_csv('a1-Multivariada.csv', sep=';')"
   ]
  },
  {
   "cell_type": "code",
   "execution_count": 13,
   "metadata": {},
   "outputs": [
    {
     "data": {
      "text/html": [
       "<div>\n",
       "<style scoped>\n",
       "    .dataframe tbody tr th:only-of-type {\n",
       "        vertical-align: middle;\n",
       "    }\n",
       "\n",
       "    .dataframe tbody tr th {\n",
       "        vertical-align: top;\n",
       "    }\n",
       "\n",
       "    .dataframe thead th {\n",
       "        text-align: right;\n",
       "    }\n",
       "</style>\n",
       "<table border=\"1\" class=\"dataframe\">\n",
       "  <thead>\n",
       "    <tr style=\"text-align: right;\">\n",
       "      <th></th>\n",
       "      <th>Empresa</th>\n",
       "      <th>Vendas</th>\n",
       "      <th>Rentabilidade (%do PL)</th>\n",
       "      <th>Liquidezgeral</th>\n",
       "      <th>Endividamentogeral</th>\n",
       "    </tr>\n",
       "  </thead>\n",
       "  <tbody>\n",
       "    <tr>\n",
       "      <th>0</th>\n",
       "      <td>PETROBRAS</td>\n",
       "      <td>47855158</td>\n",
       "      <td>21,9</td>\n",
       "      <td>1,0756</td>\n",
       "      <td>52,5</td>\n",
       "    </tr>\n",
       "    <tr>\n",
       "      <th>1</th>\n",
       "      <td>PETROBRAS DISTRIBUIDORA</td>\n",
       "      <td>13531695</td>\n",
       "      <td>10,5</td>\n",
       "      <td>1,2175</td>\n",
       "      <td>54,2</td>\n",
       "    </tr>\n",
       "    <tr>\n",
       "      <th>2</th>\n",
       "      <td>TELEMAR</td>\n",
       "      <td>7696136</td>\n",
       "      <td>7,8</td>\n",
       "      <td>0,4218</td>\n",
       "      <td>56,0</td>\n",
       "    </tr>\n",
       "    <tr>\n",
       "      <th>3</th>\n",
       "      <td>TELEFONICA</td>\n",
       "      <td>7256514</td>\n",
       "      <td>14,1</td>\n",
       "      <td>0,6093</td>\n",
       "      <td>38,1</td>\n",
       "    </tr>\n",
       "    <tr>\n",
       "      <th>4</th>\n",
       "      <td>CBB/AMBEV</td>\n",
       "      <td>7055807</td>\n",
       "      <td>10,6</td>\n",
       "      <td>0,6162</td>\n",
       "      <td>66,1</td>\n",
       "    </tr>\n",
       "  </tbody>\n",
       "</table>\n",
       "</div>"
      ],
      "text/plain": [
       "                   Empresa    Vendas Rentabilidade (%do PL) Liquidezgeral  \\\n",
       "0                PETROBRAS  47855158                   21,9        1,0756   \n",
       "1  PETROBRAS DISTRIBUIDORA  13531695                   10,5        1,2175   \n",
       "2                  TELEMAR   7696136                    7,8        0,4218   \n",
       "3               TELEFONICA   7256514                   14,1        0,6093   \n",
       "4                CBB/AMBEV   7055807                   10,6        0,6162   \n",
       "\n",
       "  Endividamentogeral  \n",
       "0               52,5  \n",
       "1               54,2  \n",
       "2               56,0  \n",
       "3               38,1  \n",
       "4               66,1  "
      ]
     },
     "execution_count": 13,
     "metadata": {},
     "output_type": "execute_result"
    }
   ],
   "source": [
    "df.head()"
   ]
  },
  {
   "cell_type": "code",
   "execution_count": null,
   "metadata": {},
   "outputs": [],
   "source": [
    "# To array\n",
    "df_arr = np.asarray(df[['Liquidezgeral']])"
   ]
  },
  {
   "cell_type": "markdown",
   "metadata": {},
   "source": [
    "### Wrangling"
   ]
  },
  {
   "cell_type": "code",
   "execution_count": 10,
   "metadata": {},
   "outputs": [
    {
     "name": "stdout",
     "output_type": "stream",
     "text": [
      "<class 'pandas.core.frame.DataFrame'>\n",
      "RangeIndex: 50 entries, 0 to 49\n",
      "Data columns (total 5 columns):\n",
      "Empresa                   50 non-null object\n",
      "Vendas                    50 non-null int64\n",
      "Rentabilidade (%do PL)    50 non-null object\n",
      "Liquidezgeral             50 non-null object\n",
      "Endividamentogeral        50 non-null object\n",
      "dtypes: int64(1), object(4)\n",
      "memory usage: 2.0+ KB\n"
     ]
    }
   ],
   "source": [
    "df.info()"
   ]
  },
  {
   "cell_type": "code",
   "execution_count": 17,
   "metadata": {},
   "outputs": [],
   "source": [
    "# Renomeando as colunas\n",
    "\n",
    "\n",
    "df['rentabilidade'] = df['Rentabilidade (%do PL)'].apply(lambda x: float(x.replace(\",\", \".\")))\n",
    "df['liquidez'] = df['Liquidezgeral'].apply(lambda x: float(x.replace(\",\", \".\")))\n",
    "df['endividamento'] = df['Endividamentogeral'].apply(lambda x: float(x.replace(\",\", \".\")))\n",
    "df['empresa'] = df['Empresa']\n",
    "df = df[['empresa', 'rentabilidade', 'liquidez', 'endividamento']]"
   ]
  },
  {
   "cell_type": "code",
   "execution_count": 18,
   "metadata": {},
   "outputs": [
    {
     "data": {
      "text/html": [
       "<div>\n",
       "<style scoped>\n",
       "    .dataframe tbody tr th:only-of-type {\n",
       "        vertical-align: middle;\n",
       "    }\n",
       "\n",
       "    .dataframe tbody tr th {\n",
       "        vertical-align: top;\n",
       "    }\n",
       "\n",
       "    .dataframe thead th {\n",
       "        text-align: right;\n",
       "    }\n",
       "</style>\n",
       "<table border=\"1\" class=\"dataframe\">\n",
       "  <thead>\n",
       "    <tr style=\"text-align: right;\">\n",
       "      <th></th>\n",
       "      <th>empresa</th>\n",
       "      <th>rentabilidade</th>\n",
       "      <th>liquidez</th>\n",
       "      <th>endividamento</th>\n",
       "    </tr>\n",
       "  </thead>\n",
       "  <tbody>\n",
       "    <tr>\n",
       "      <th>0</th>\n",
       "      <td>PETROBRAS</td>\n",
       "      <td>21.9</td>\n",
       "      <td>1.0756</td>\n",
       "      <td>52.5</td>\n",
       "    </tr>\n",
       "    <tr>\n",
       "      <th>1</th>\n",
       "      <td>PETROBRAS DISTRIBUIDORA</td>\n",
       "      <td>10.5</td>\n",
       "      <td>1.2175</td>\n",
       "      <td>54.2</td>\n",
       "    </tr>\n",
       "    <tr>\n",
       "      <th>2</th>\n",
       "      <td>TELEMAR</td>\n",
       "      <td>7.8</td>\n",
       "      <td>0.4218</td>\n",
       "      <td>56.0</td>\n",
       "    </tr>\n",
       "    <tr>\n",
       "      <th>3</th>\n",
       "      <td>TELEFONICA</td>\n",
       "      <td>14.1</td>\n",
       "      <td>0.6093</td>\n",
       "      <td>38.1</td>\n",
       "    </tr>\n",
       "    <tr>\n",
       "      <th>4</th>\n",
       "      <td>CBB/AMBEV</td>\n",
       "      <td>10.6</td>\n",
       "      <td>0.6162</td>\n",
       "      <td>66.1</td>\n",
       "    </tr>\n",
       "  </tbody>\n",
       "</table>\n",
       "</div>"
      ],
      "text/plain": [
       "                   empresa  rentabilidade  liquidez  endividamento\n",
       "0                PETROBRAS           21.9    1.0756           52.5\n",
       "1  PETROBRAS DISTRIBUIDORA           10.5    1.2175           54.2\n",
       "2                  TELEMAR            7.8    0.4218           56.0\n",
       "3               TELEFONICA           14.1    0.6093           38.1\n",
       "4                CBB/AMBEV           10.6    0.6162           66.1"
      ]
     },
     "execution_count": 18,
     "metadata": {},
     "output_type": "execute_result"
    }
   ],
   "source": [
    "df.head()"
   ]
  },
  {
   "cell_type": "code",
   "execution_count": 19,
   "metadata": {},
   "outputs": [],
   "source": []
  },
  {
   "cell_type": "markdown",
   "metadata": {},
   "source": [
    "Dendograma com a variável `liquidez`"
   ]
  },
  {
   "cell_type": "code",
   "execution_count": 25,
   "metadata": {},
   "outputs": [
    {
     "data": {
      "image/png": "[encoded data removed]",
      "text/plain": [
       "<Figure size 432x288 with 1 Axes>"
      ]
     },
     "metadata": {
      "needs_background": "light"
     },
     "output_type": "display_data"
    }
   ],
   "source": []
  },
  {
   "cell_type": "markdown",
   "metadata": {},
   "source": [
    "Entrega 02:\n",
    "- Resultados esperados\n",
    "- Plano de análise\n",
    "- Descrever o processo e as k.w.\n",
    "- O que eu espero?\n",
    "\n",
    "\n",
    "Entrega 03: Tudo na prática"
   ]
  }
 ],
 "metadata": {
  "kernelspec": {
   "display_name": "Python 3",
   "language": "python",
   "name": "python3"
  },
  "language_info": {
   "codemirror_mode": {
    "name": "ipython",
    "version": 3
   },
   "file_extension": ".py",
   "mimetype": "text/x-python",
   "name": "python",
   "nbconvert_exporter": "python",
   "pygments_lexer": "ipython3",
   "version": "3.7.1"
  }
 },
 "nbformat": 4,
 "nbformat_minor": 2
}
